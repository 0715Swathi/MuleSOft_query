{
  "nbformat": 4,
  "nbformat_minor": 0,
  "metadata": {
    "colab": {
      "name": "Program5.ipynb",
      "provenance": [],
      "authorship_tag": "ABX9TyPRA998yB469iP9QQMEAEYh",
      "include_colab_link": true
    },
    "kernelspec": {
      "name": "python3",
      "display_name": "Python 3"
    },
    "language_info": {
      "name": "python"
    }
  },
  "cells": [
    {
      "cell_type": "markdown",
      "metadata": {
        "id": "view-in-github",
        "colab_type": "text"
      },
      "source": [
        "<a href=\"https://colab.research.google.com/github/0715Swathi/MuleSOft_query/blob/main/Program5.ipynb\" target=\"_parent\"><img src=\"https://colab.research.google.com/assets/colab-badge.svg\" alt=\"Open In Colab\"/></a>"
      ]
    },
    {
      "cell_type": "code",
      "execution_count": null,
      "metadata": {
        "colab": {
          "base_uri": "https://localhost:8080/"
        },
        "id": "R0Zc7xw5eSbE",
        "outputId": "539e193a-4e33-4c0d-c811-c8566f4249b4"
      },
      "outputs": [
        {
          "output_type": "stream",
          "name": "stdout",
          "text": [
            "Normalized input\n",
            " [[0.66666667 1.        ]\n",
            " [0.33333333 0.55555556]\n",
            " [1.         0.66666667]]\n",
            "Actual output:\n",
            " [[0.92]\n",
            " [0.86]\n",
            " [0.89]]\n",
            "Predicted output\n",
            " [[0.89433986]\n",
            " [0.87999455]\n",
            " [0.89538538]]\n"
          ]
        }
      ],
      "source": [
        "import numpy as np\n",
        "X = np.array(([2,9],[1,5],[3,6]),dtype=float)\n",
        "Y = np.array(([92],[86],[89]),dtype=float)\n",
        "\n",
        "X = X/np.amax(X,axis=0)\n",
        "Y = Y/100\n",
        "\n",
        "def sigmoid(x):\n",
        "  return 1/(1+np.exp(-x))\n",
        "def sigmoid_grad(x):\n",
        "  return x*(1-x)\n",
        "\n",
        "epoch = 1000\n",
        "eta = 0.2\n",
        "input_neurons = 2\n",
        "hidden_neurons = 3\n",
        "output_neurons = 1\n",
        "\n",
        "wh = np.random.uniform(size=(input_neurons,hidden_neurons))\n",
        "bh = np.random.uniform(size=(1,hidden_neurons))\n",
        "wout = np.random.uniform(size=(hidden_neurons,output_neurons))\n",
        "bout = np.random.uniform(size=(1,output_neurons))\n",
        "\n",
        "for i in range(epoch):\n",
        "  h_ip = np.dot(X, wh)+bh\n",
        "  h_act = sigmoid(h_ip)\n",
        "  o_ip = np.dot(h_act,wout)+bout\n",
        "  output = sigmoid(o_ip)\n",
        "\n",
        "  E0 = Y-output\n",
        "  outgrad = sigmoid_grad(output)\n",
        "  d_output = E0 * outgrad\n",
        "\n",
        "  Eh = d_output.dot(wout.T)\n",
        "  hiddengrad = sigmoid_grad(h_act)\n",
        "  d_hidden = Eh * hiddengrad\n",
        "\n",
        "  wout += h_act.T.dot(d_output)*eta\n",
        "  wh += X.T.dot(d_hidden)*eta\n",
        "\n",
        "print(\"Normalized input\\n\",X)\n",
        "print(\"Actual output:\\n\",Y)\n",
        "print(\"Predicted output\\n\",output)"
      ]
    }
  ]
}