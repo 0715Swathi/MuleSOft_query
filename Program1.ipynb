{
  "nbformat": 4,
  "nbformat_minor": 0,
  "metadata": {
    "colab": {
      "name": "Program1.ipynb",
      "provenance": [],
      "authorship_tag": "ABX9TyOhAZuh+geKVEoD4Ey7gNem",
      "include_colab_link": true
    },
    "kernelspec": {
      "name": "python3",
      "display_name": "Python 3"
    },
    "language_info": {
      "name": "python"
    }
  },
  "cells": [
    {
      "cell_type": "markdown",
      "metadata": {
        "id": "view-in-github",
        "colab_type": "text"
      },
      "source": [
        "<a href=\"https://colab.research.google.com/github/0715Swathi/MuleSOft_query/blob/main/Program1.ipynb\" target=\"_parent\"><img src=\"https://colab.research.google.com/assets/colab-badge.svg\" alt=\"Open In Colab\"/></a>"
      ]
    },
    {
      "cell_type": "code",
      "execution_count": 2,
      "metadata": {
        "colab": {
          "base_uri": "https://localhost:8080/"
        },
        "id": "4YWWLkCa_qb6",
        "outputId": "87ccd696-431d-4ac6-a731-b213724d361f"
      },
      "outputs": [
        {
          "output_type": "stream",
          "name": "stdout",
          "text": [
            "The path is:\t ['S', 'A', 'C', 'G']\n"
          ]
        },
        {
          "output_type": "execute_result",
          "data": {
            "text/plain": [
              "['S', 'A', 'C', 'G']"
            ]
          },
          "metadata": {},
          "execution_count": 2
        }
      ],
      "source": [
        "def aStartAlgo(start_node, stop_node):\n",
        "  open_set = set(start_node)\n",
        "  closed_set = set()\n",
        "  g={}\n",
        "  parent = {}\n",
        "  g[start_node] = 0\n",
        "  parent[start_node] = start_node\n",
        "\n",
        "  while len(open_set)>0:\n",
        "    n= None\n",
        "    for v in open_set:\n",
        "      if n==None or g[v]+heuristic(v) < g[n]+heuristic(n):\n",
        "        n=v\n",
        "    if n==stop_node or Graph_node[n]==None:\n",
        "      pass\n",
        "    else:\n",
        "      for (m,weight) in get_neighbour(n):\n",
        "        if m not in open_set and m not in closed_set:\n",
        "          open_set.add(m)\n",
        "          parent[m]=n\n",
        "          g[m] = g[n]+weight\n",
        "        \n",
        "        else:\n",
        "          if g[m]> g[n]+weight:\n",
        "            g[m] = g[n]+weight\n",
        "            parent[m] = n\n",
        "\n",
        "            if m in closed_set:\n",
        "              closed_set.remove(m)\n",
        "              open_set.add(m)\n",
        "    if n==None:\n",
        "      print(\"Path does not exist\")\n",
        "      return None\n",
        "    \n",
        "    if n== stop_node:\n",
        "      path =[]\n",
        "      while parent[n]!=n:\n",
        "        path.append(n)\n",
        "        n = parent[n]\n",
        "      path.append(start_node)\n",
        "      path.reverse()\n",
        "      print(\"The path is:\\t\",path)\n",
        "      return path\n",
        "\n",
        "    open_set.remove(n)\n",
        "    closed_set.add(n)\n",
        "  print(\"Path does not exit\")\n",
        "  return None\n",
        "\n",
        "def get_neighbour(v):\n",
        "  if v in Graph_node:\n",
        "    return Graph_node[v]\n",
        "  else:\n",
        "    return None\n",
        "\n",
        "def heuristic(v):\n",
        "  H_dist = {\n",
        "      'S':5,\n",
        "      'A':3,\n",
        "      'B':4,\n",
        "      'C':2,\n",
        "      'D':6,\n",
        "      'G':0\n",
        "  }\n",
        "  return H_dist[v]\n",
        "\n",
        "Graph_node = {\n",
        "    'S':[('A',1),('G',10)],\n",
        "    'A':[('B',2),('C',1)],\n",
        "    'B':[('D',5)],\n",
        "    'C':[('D',3),('G',4)],\n",
        "    'D':[('G',2)]\n",
        "}\n",
        "aStartAlgo('S','G')\n",
        "\n",
        "      "
      ]
    }
  ]
}